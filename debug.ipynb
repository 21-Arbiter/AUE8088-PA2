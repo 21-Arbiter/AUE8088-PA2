{
 "cells": [
  {
   "cell_type": "markdown",
   "metadata": {
    "id": "t6MPjfT5NrKQ"
   },
   "source": [
    "# Jupyter notebook for debugging"
   ]
  },
  {
   "cell_type": "code",
   "execution_count": 1,
   "metadata": {
    "colab": {
     "base_uri": "https://localhost:8080/"
    },
    "id": "wbvMlHd_QwMG",
    "outputId": "e8225db4-e61d-4640-8b1f-8bfce3331cea"
   },
   "outputs": [],
   "source": [
    "%load_ext autoreload\n",
    "%autoreload 2\n",
    "\n",
    "# Copied from `train` function in train_simple.py:L78\n",
    "import yaml\n",
    "\n",
    "device = 'cpu'\n",
    "hyp = 'data/hyps/hyp.scratch-low.yaml'\n",
    "\n",
    "with open(hyp, errors=\"ignore\") as f:\n",
    "    hyp = yaml.safe_load(f)  # load hyps dict"
   ]
  },
  {
   "cell_type": "code",
   "execution_count": 1,
   "metadata": {},
   "outputs": [
    {
     "ename": "NameError",
     "evalue": "name 'hyp' is not defined",
     "output_type": "error",
     "traceback": [
      "\u001b[0;31m---------------------------------------------------------------------------\u001b[0m",
      "\u001b[0;31mNameError\u001b[0m                                 Traceback (most recent call last)",
      "Cell \u001b[0;32mIn[1], line 9\u001b[0m\n\u001b[1;32m      6\u001b[0m data_dict \u001b[38;5;241m=\u001b[39m check_dataset(data)\n\u001b[1;32m      8\u001b[0m nc \u001b[38;5;241m=\u001b[39m \u001b[38;5;28mint\u001b[39m(data_dict[\u001b[38;5;124m\"\u001b[39m\u001b[38;5;124mnc\u001b[39m\u001b[38;5;124m\"\u001b[39m])  \u001b[38;5;66;03m# number of classes\u001b[39;00m\n\u001b[0;32m----> 9\u001b[0m model \u001b[38;5;241m=\u001b[39m Model(cfg, ch\u001b[38;5;241m=\u001b[39m\u001b[38;5;241m3\u001b[39m, nc\u001b[38;5;241m=\u001b[39mnc, anchors\u001b[38;5;241m=\u001b[39m\u001b[43mhyp\u001b[49m\u001b[38;5;241m.\u001b[39mget(\u001b[38;5;124m\"\u001b[39m\u001b[38;5;124manchors\u001b[39m\u001b[38;5;124m\"\u001b[39m))\u001b[38;5;241m.\u001b[39mto(device)  \u001b[38;5;66;03m# create\u001b[39;00m\n",
      "\u001b[0;31mNameError\u001b[0m: name 'hyp' is not defined"
     ]
    }
   ],
   "source": [
    "from models.yolo import Model\n",
    "from utils.general import check_dataset\n",
    "\n",
    "cfg = 'models/yolov5n_nuscenes.yaml'\n",
    "data = 'data/nuscenes.yaml'\n",
    "data_dict = check_dataset(data)\n",
    "\n",
    "nc = int(data_dict[\"nc\"])  # number of classes\n",
    "model = Model(cfg, ch=3, nc=nc, anchors=hyp.get(\"anchors\")).to(device)  # create"
   ]
  },
  {
   "cell_type": "code",
   "execution_count": null,
   "metadata": {},
   "outputs": [],
   "source": [
    "anchors = model.model[-1].anchors\n",
    "\n",
    "# [TODO] Draw anchors"
   ]
  },
  {
   "cell_type": "code",
   "execution_count": 3,
   "metadata": {},
   "outputs": [
    {
     "ename": "NameError",
     "evalue": "name 'model' is not defined",
     "output_type": "error",
     "traceback": [
      "\u001b[0;31m---------------------------------------------------------------------------\u001b[0m",
      "\u001b[0;31mNameError\u001b[0m                                 Traceback (most recent call last)",
      "Cell \u001b[0;32mIn[3], line 10\u001b[0m\n\u001b[1;32m      7\u001b[0m seed \u001b[38;5;241m=\u001b[39m \u001b[38;5;241m0\u001b[39m\n\u001b[1;32m      9\u001b[0m train_path \u001b[38;5;241m=\u001b[39m data_dict[\u001b[38;5;124m\"\u001b[39m\u001b[38;5;124mtrain\u001b[39m\u001b[38;5;124m\"\u001b[39m]\n\u001b[0;32m---> 10\u001b[0m gs \u001b[38;5;241m=\u001b[39m \u001b[38;5;28mmax\u001b[39m(\u001b[38;5;28mint\u001b[39m(\u001b[43mmodel\u001b[49m\u001b[38;5;241m.\u001b[39mstride\u001b[38;5;241m.\u001b[39mmax()), \u001b[38;5;241m32\u001b[39m)  \u001b[38;5;66;03m# grid size (max stride)\u001b[39;00m\n\u001b[1;32m     11\u001b[0m imgsz \u001b[38;5;241m=\u001b[39m check_img_size(imgsz, gs, floor\u001b[38;5;241m=\u001b[39mgs \u001b[38;5;241m*\u001b[39m \u001b[38;5;241m2\u001b[39m)  \u001b[38;5;66;03m# verify imgsz is gs-multiple\u001b[39;00m\n\u001b[1;32m     13\u001b[0m train_loader, dataset \u001b[38;5;241m=\u001b[39m create_dataloader(\n\u001b[1;32m     14\u001b[0m     train_path,\n\u001b[1;32m     15\u001b[0m     imgsz,\n\u001b[0;32m   (...)\u001b[0m\n\u001b[1;32m     29\u001b[0m     seed\u001b[38;5;241m=\u001b[39mseed,\n\u001b[1;32m     30\u001b[0m )\n",
      "\u001b[0;31mNameError\u001b[0m: name 'model' is not defined"
     ]
    }
   ],
   "source": [
    "from utils.dataloaders import create_dataloader\n",
    "from utils.general import check_img_size, colorstr\n",
    "\n",
    "imgsz = 416\n",
    "batch_size = 1\n",
    "single_cls = False\n",
    "seed = 0\n",
    "\n",
    "train_path = data_dict[\"train\"]\n",
    "gs = max(int(model.stride.max()), 32)  # grid size (max stride)\n",
    "imgsz = check_img_size(imgsz, gs, floor=gs * 2)  # verify imgsz is gs-multiple\n",
    "\n",
    "train_loader, dataset = create_dataloader(\n",
    "    train_path,\n",
    "    imgsz,\n",
    "    batch_size,\n",
    "    gs,\n",
    "    single_cls,\n",
    "    hyp=hyp,\n",
    "    augment=True,\n",
    "    cache=None,\n",
    "    rect=False,\n",
    "    rank=-1,\n",
    "    workers=8,\n",
    "    image_weights=False,\n",
    "    quad=False,\n",
    "    prefix=colorstr(\"train: \"),\n",
    "    shuffle=True,\n",
    "    seed=seed,\n",
    ")"
   ]
  },
  {
   "cell_type": "code",
   "execution_count": 4,
   "metadata": {},
   "outputs": [
    {
     "ename": "NameError",
     "evalue": "name 'train_loader' is not defined",
     "output_type": "error",
     "traceback": [
      "\u001b[0;31m---------------------------------------------------------------------------\u001b[0m",
      "\u001b[0;31mNameError\u001b[0m                                 Traceback (most recent call last)",
      "Cell \u001b[0;32mIn[4], line 1\u001b[0m\n\u001b[0;32m----> 1\u001b[0m \u001b[38;5;28;01mfor\u001b[39;00m imgs, targets, paths, _ \u001b[38;5;129;01min\u001b[39;00m \u001b[43mtrain_loader\u001b[49m:\n\u001b[1;32m      2\u001b[0m     imgs \u001b[38;5;241m=\u001b[39m imgs\u001b[38;5;241m.\u001b[39mto(device, non_blocking\u001b[38;5;241m=\u001b[39m\u001b[38;5;28;01mTrue\u001b[39;00m)\u001b[38;5;241m.\u001b[39mfloat() \u001b[38;5;241m/\u001b[39m \u001b[38;5;241m255\u001b[39m  \u001b[38;5;66;03m# uint8 to float32, 0-255 to 0.0-1.0\u001b[39;00m\n\u001b[1;32m      3\u001b[0m     \u001b[38;5;28;01mbreak\u001b[39;00m\n",
      "\u001b[0;31mNameError\u001b[0m: name 'train_loader' is not defined"
     ]
    }
   ],
   "source": [
    "for imgs, targets, paths, _ in train_loader:\n",
    "    imgs = imgs.to(device, non_blocking=True).float() / 255  # uint8 to float32, 0-255 to 0.0-1.0\n",
    "    break"
   ]
  },
  {
   "cell_type": "code",
   "execution_count": 5,
   "metadata": {},
   "outputs": [
    {
     "name": "stderr",
     "output_type": "stream",
     "text": [
      "YOLOv5 🚀 v7.0-325-gae7b832a Python-3.8.19 torch-2.3.1+cu121 CPU\n",
      "\n",
      "Fusing layers... \n",
      "YOLOv5n summary: 213 layers, 1867405 parameters, 0 gradients, 4.5 GFLOPs\n"
     ]
    },
    {
     "ename": "NameError",
     "evalue": "name 'imgs' is not defined",
     "output_type": "error",
     "traceback": [
      "\u001b[0;31m---------------------------------------------------------------------------\u001b[0m",
      "\u001b[0;31mNameError\u001b[0m                                 Traceback (most recent call last)",
      "Cell \u001b[0;32mIn[5], line 17\u001b[0m\n\u001b[1;32m     15\u001b[0m model\u001b[38;5;241m.\u001b[39meval()\n\u001b[1;32m     16\u001b[0m \u001b[38;5;28;01mwith\u001b[39;00m torch\u001b[38;5;241m.\u001b[39mno_grad():\n\u001b[0;32m---> 17\u001b[0m     pred \u001b[38;5;241m=\u001b[39m model(\u001b[43mimgs\u001b[49m)  \u001b[38;5;66;03m# forward\u001b[39;00m\n",
      "\u001b[0;31mNameError\u001b[0m: name 'imgs' is not defined"
     ]
    }
   ],
   "source": [
    "import torch\n",
    "from models.common import DetectMultiBackend\n",
    "from utils.torch_utils import select_device\n",
    "\n",
    "weights = 'yolov5n.pt'\n",
    "# data = 'data/nuscenes.yaml'\n",
    "data = 'data/coco128.yaml'\n",
    "half = False  # use FP16 half-precision inference\n",
    "dnn = False  # use OpenCV DNN for ONNX inference\n",
    "device = select_device('cpu')\n",
    "\n",
    "model = DetectMultiBackend(weights, device=device, dnn=dnn, data=data, fp16=half)\n",
    "\n",
    "# inference\n",
    "model.eval()\n",
    "with torch.no_grad():\n",
    "    pred = model(imgs)  # forward"
   ]
  },
  {
   "cell_type": "code",
   "execution_count": 6,
   "metadata": {},
   "outputs": [
    {
     "ename": "NameError",
     "evalue": "name 'pred' is not defined",
     "output_type": "error",
     "traceback": [
      "\u001b[0;31m---------------------------------------------------------------------------\u001b[0m",
      "\u001b[0;31mNameError\u001b[0m                                 Traceback (most recent call last)",
      "Cell \u001b[0;32mIn[6], line 9\u001b[0m\n\u001b[1;32m      6\u001b[0m classes \u001b[38;5;241m=\u001b[39m \u001b[38;5;28;01mNone\u001b[39;00m\n\u001b[1;32m      7\u001b[0m agnostic_nms \u001b[38;5;241m=\u001b[39m \u001b[38;5;28;01mFalse\u001b[39;00m  \u001b[38;5;66;03m# class-agnostic NMS\u001b[39;00m\n\u001b[0;32m----> 9\u001b[0m pred \u001b[38;5;241m=\u001b[39m non_max_suppression(\u001b[43mpred\u001b[49m, conf_thres, iou_thres, classes, agnostic_nms, max_det\u001b[38;5;241m=\u001b[39mmax_det)\n\u001b[1;32m     11\u001b[0m \u001b[38;5;66;03m# [TODO] draw predictions (see detect.py:L178)\u001b[39;00m\n",
      "\u001b[0;31mNameError\u001b[0m: name 'pred' is not defined"
     ]
    }
   ],
   "source": [
    "from utils.general import non_max_suppression\n",
    "\n",
    "conf_thres = 0.25  # confidence threshold\n",
    "iou_thres = 0.45  # NMS IOU threshold\n",
    "max_det = 1000  # maximum detections per image\n",
    "classes = None\n",
    "agnostic_nms = False  # class-agnostic NMS\n",
    "\n",
    "pred = non_max_suppression(pred, conf_thres, iou_thres, classes, agnostic_nms, max_det=max_det)\n",
    "\n",
    "# [TODO] draw predictions (see detect.py:L178)\n"
   ]
  },
  {
   "cell_type": "code",
   "execution_count": null,
   "metadata": {},
   "outputs": [],
   "source": []
  },
  {
   "cell_type": "code",
   "execution_count": null,
   "metadata": {},
   "outputs": [],
   "source": []
  },
  {
   "cell_type": "code",
   "execution_count": null,
   "metadata": {},
   "outputs": [],
   "source": []
  }
 ],
 "metadata": {
  "accelerator": "GPU",
  "colab": {
   "name": "YOLOv5 Tutorial",
   "provenance": []
  },
  "kernelspec": {
   "display_name": "Python 3 (ipykernel)",
   "language": "python",
   "name": "python3"
  },
  "language_info": {
   "codemirror_mode": {
    "name": "ipython",
    "version": 3
   },
   "file_extension": ".py",
   "mimetype": "text/x-python",
   "name": "python",
   "nbconvert_exporter": "python",
   "pygments_lexer": "ipython3",
   "version": "3.8.19"
  }
 },
 "nbformat": 4,
 "nbformat_minor": 4
}
